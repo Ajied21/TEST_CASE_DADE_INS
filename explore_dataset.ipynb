{
 "cells": [
  {
   "cell_type": "code",
   "execution_count": 28,
   "metadata": {},
   "outputs": [
    {
     "name": "stdout",
     "output_type": "stream",
     "text": [
      "        ProductID    StoreID  ReportDate  SalesCumulativeSum\n",
      "0      5469144250   53949207  2021-04-23                   7\n",
      "1      5936880091   17737769  2021-04-23                   9\n",
      "2      4845674243  237606391  2021-04-23                   8\n",
      "3      5726226400  124489135  2021-04-23                   5\n",
      "4      2892619493  156415596  2021-04-23                  11\n",
      "...           ...        ...         ...                 ...\n",
      "96748  6988069568  412288178  2021-05-18                   0\n",
      "96749  6919987026  233425173  2021-05-18                 945\n",
      "96750  9345520043   35607869  2021-05-18                   0\n",
      "96751  4042828055  178047044  2021-05-18                   0\n",
      "96752  3465336132  299846144  2021-05-18                   0\n",
      "\n",
      "[96753 rows x 4 columns]\n"
     ]
    }
   ],
   "source": [
    "import pandas as pd\n",
    "\n",
    "df = pd.read_csv('Data/ArifReport.csv', low_memory=False)\n",
    "\n",
    "#show dataset\n",
    "print(f\"{df}\")"
   ]
  },
  {
   "cell_type": "code",
   "execution_count": 29,
   "metadata": {},
   "outputs": [
    {
     "name": "stdout",
     "output_type": "stream",
     "text": [
      "<class 'pandas.core.frame.DataFrame'>\n",
      "RangeIndex: 96753 entries, 0 to 96752\n",
      "Data columns (total 4 columns):\n",
      " #   Column              Non-Null Count  Dtype \n",
      "---  ------              --------------  ----- \n",
      " 0   ProductID           96753 non-null  int64 \n",
      " 1   StoreID             96753 non-null  int64 \n",
      " 2   ReportDate          96753 non-null  object\n",
      " 3   SalesCumulativeSum  96753 non-null  int64 \n",
      "dtypes: int64(3), object(1)\n",
      "memory usage: 3.0+ MB\n",
      "None\n"
     ]
    }
   ],
   "source": [
    "#show information dataset\n",
    "print(f\"{df.info()}\")"
   ]
  },
  {
   "cell_type": "code",
   "execution_count": 30,
   "metadata": {},
   "outputs": [
    {
     "name": "stdout",
     "output_type": "stream",
     "text": [
      "          ProductID       StoreID  SalesCumulativeSum\n",
      "count  9.675300e+04  9.675300e+04        96753.000000\n",
      "mean   5.850382e+09  1.629772e+08           70.509783\n",
      "std    2.410676e+09  1.027593e+08         1718.071997\n",
      "min    2.289973e+06  1.059700e+04            0.000000\n",
      "25%    4.008070e+09  7.745727e+07            0.000000\n",
      "50%    5.914165e+09  1.728227e+08            0.000000\n",
      "75%    7.754419e+09  2.155810e+08            0.000000\n",
      "max    1.190204e+10  4.437189e+08       179352.000000\n"
     ]
    }
   ],
   "source": [
    "#show summary dataset\n",
    "print(f\"{df.describe()}\")"
   ]
  },
  {
   "cell_type": "code",
   "execution_count": 31,
   "metadata": {},
   "outputs": [
    {
     "name": "stdout",
     "output_type": "stream",
     "text": [
      "Number of missing value :\n",
      "ProductID             0\n",
      "StoreID               0\n",
      "ReportDate            0\n",
      "SalesCumulativeSum    0\n",
      "dtype: int64\n"
     ]
    }
   ],
   "source": [
    "#show total missing value in dataset\n",
    "check_missing_value = df.isna().sum()\n",
    "print(f\"Number of missing value :\\n{check_missing_value}\")"
   ]
  },
  {
   "cell_type": "code",
   "execution_count": 32,
   "metadata": {},
   "outputs": [
    {
     "name": "stdout",
     "output_type": "stream",
     "text": [
      "Number of duplicate rows : 0\n"
     ]
    }
   ],
   "source": [
    "#show total duplicate_rows in dataset\n",
    "duplicate_rows = df.duplicated().sum()\n",
    "print(f\"Number of duplicate rows : {duplicate_rows}\")"
   ]
  }
 ],
 "metadata": {
  "kernelspec": {
   "display_name": "Python 3",
   "language": "python",
   "name": "python3"
  },
  "language_info": {
   "codemirror_mode": {
    "name": "ipython",
    "version": 3
   },
   "file_extension": ".py",
   "mimetype": "text/x-python",
   "name": "python",
   "nbconvert_exporter": "python",
   "pygments_lexer": "ipython3",
   "version": "3.10.11"
  }
 },
 "nbformat": 4,
 "nbformat_minor": 2
}
